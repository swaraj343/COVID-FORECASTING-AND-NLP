{
 "cells": [
  {
   "cell_type": "code",
   "execution_count": 26,
   "metadata": {},
   "outputs": [],
   "source": [
    "import warnings\n",
    "warnings.filterwarnings('ignore')\n",
    "import pandas as pd\n",
    "import matplotlib.pyplot as plt\n",
    "import seaborn as sns\n",
    "import numpy as np\n",
    "import datetime as dt\n",
    "from datetime import timedelta\n",
    "from sklearn.model_selection import GridSearchCV\n",
    "from sklearn.preprocessing import StandardScaler\n",
    "from sklearn.cluster import KMeans\n",
    "from sklearn.metrics import silhouette_score,silhouette_samples\n",
    "from sklearn.linear_model import LinearRegression,Ridge,Lasso\n",
    "from sklearn.svm import SVR\n",
    "from sklearn.metrics import mean_squared_error,r2_score\n",
    "import statsmodels.api as sm\n",
    "from statsmodels.tsa.api import Holt,SimpleExpSmoothing,ExponentialSmoothing\n",
    "from sklearn.preprocessing import PolynomialFeatures\n",
    "from statsmodels.tsa.stattools import adfuller\n",
    "from statsmodels.tsa.ar_model import AR\n",
    "#from statsmodels.tsa.arima_model import ARIMA\n",
    "#from statsmodels.graphics.tsaplots import plot_acf,plot_pacf\n",
    "std=StandardScaler()"
   ]
  },
  {
   "cell_type": "code",
   "execution_count": 3,
   "metadata": {},
   "outputs": [
    {
     "data": {
      "text/html": [
       "<div>\n",
       "<style scoped>\n",
       "    .dataframe tbody tr th:only-of-type {\n",
       "        vertical-align: middle;\n",
       "    }\n",
       "\n",
       "    .dataframe tbody tr th {\n",
       "        vertical-align: top;\n",
       "    }\n",
       "\n",
       "    .dataframe thead th {\n",
       "        text-align: right;\n",
       "    }\n",
       "</style>\n",
       "<table border=\"1\" class=\"dataframe\">\n",
       "  <thead>\n",
       "    <tr style=\"text-align: right;\">\n",
       "      <th></th>\n",
       "      <th>SNo</th>\n",
       "      <th>ObservationDate</th>\n",
       "      <th>Province/State</th>\n",
       "      <th>Country/Region</th>\n",
       "      <th>Last Update</th>\n",
       "      <th>Confirmed</th>\n",
       "      <th>Deaths</th>\n",
       "      <th>Recovered</th>\n",
       "    </tr>\n",
       "  </thead>\n",
       "  <tbody>\n",
       "    <tr>\n",
       "      <td>0</td>\n",
       "      <td>1</td>\n",
       "      <td>01/22/2020</td>\n",
       "      <td>Anhui</td>\n",
       "      <td>Mainland China</td>\n",
       "      <td>1/22/2020 17:00</td>\n",
       "      <td>1.0</td>\n",
       "      <td>0.0</td>\n",
       "      <td>0.0</td>\n",
       "    </tr>\n",
       "    <tr>\n",
       "      <td>1</td>\n",
       "      <td>2</td>\n",
       "      <td>01/22/2020</td>\n",
       "      <td>Beijing</td>\n",
       "      <td>Mainland China</td>\n",
       "      <td>1/22/2020 17:00</td>\n",
       "      <td>14.0</td>\n",
       "      <td>0.0</td>\n",
       "      <td>0.0</td>\n",
       "    </tr>\n",
       "    <tr>\n",
       "      <td>2</td>\n",
       "      <td>3</td>\n",
       "      <td>01/22/2020</td>\n",
       "      <td>Chongqing</td>\n",
       "      <td>Mainland China</td>\n",
       "      <td>1/22/2020 17:00</td>\n",
       "      <td>6.0</td>\n",
       "      <td>0.0</td>\n",
       "      <td>0.0</td>\n",
       "    </tr>\n",
       "    <tr>\n",
       "      <td>3</td>\n",
       "      <td>4</td>\n",
       "      <td>01/22/2020</td>\n",
       "      <td>Fujian</td>\n",
       "      <td>Mainland China</td>\n",
       "      <td>1/22/2020 17:00</td>\n",
       "      <td>1.0</td>\n",
       "      <td>0.0</td>\n",
       "      <td>0.0</td>\n",
       "    </tr>\n",
       "    <tr>\n",
       "      <td>4</td>\n",
       "      <td>5</td>\n",
       "      <td>01/22/2020</td>\n",
       "      <td>Gansu</td>\n",
       "      <td>Mainland China</td>\n",
       "      <td>1/22/2020 17:00</td>\n",
       "      <td>0.0</td>\n",
       "      <td>0.0</td>\n",
       "      <td>0.0</td>\n",
       "    </tr>\n",
       "    <tr>\n",
       "      <td>5</td>\n",
       "      <td>6</td>\n",
       "      <td>01/22/2020</td>\n",
       "      <td>Guangdong</td>\n",
       "      <td>Mainland China</td>\n",
       "      <td>1/22/2020 17:00</td>\n",
       "      <td>26.0</td>\n",
       "      <td>0.0</td>\n",
       "      <td>0.0</td>\n",
       "    </tr>\n",
       "    <tr>\n",
       "      <td>6</td>\n",
       "      <td>7</td>\n",
       "      <td>01/22/2020</td>\n",
       "      <td>Guangxi</td>\n",
       "      <td>Mainland China</td>\n",
       "      <td>1/22/2020 17:00</td>\n",
       "      <td>2.0</td>\n",
       "      <td>0.0</td>\n",
       "      <td>0.0</td>\n",
       "    </tr>\n",
       "    <tr>\n",
       "      <td>7</td>\n",
       "      <td>8</td>\n",
       "      <td>01/22/2020</td>\n",
       "      <td>Guizhou</td>\n",
       "      <td>Mainland China</td>\n",
       "      <td>1/22/2020 17:00</td>\n",
       "      <td>1.0</td>\n",
       "      <td>0.0</td>\n",
       "      <td>0.0</td>\n",
       "    </tr>\n",
       "    <tr>\n",
       "      <td>8</td>\n",
       "      <td>9</td>\n",
       "      <td>01/22/2020</td>\n",
       "      <td>Hainan</td>\n",
       "      <td>Mainland China</td>\n",
       "      <td>1/22/2020 17:00</td>\n",
       "      <td>4.0</td>\n",
       "      <td>0.0</td>\n",
       "      <td>0.0</td>\n",
       "    </tr>\n",
       "    <tr>\n",
       "      <td>9</td>\n",
       "      <td>10</td>\n",
       "      <td>01/22/2020</td>\n",
       "      <td>Hebei</td>\n",
       "      <td>Mainland China</td>\n",
       "      <td>1/22/2020 17:00</td>\n",
       "      <td>1.0</td>\n",
       "      <td>0.0</td>\n",
       "      <td>0.0</td>\n",
       "    </tr>\n",
       "  </tbody>\n",
       "</table>\n",
       "</div>"
      ],
      "text/plain": [
       "   SNo ObservationDate Province/State  Country/Region      Last Update  \\\n",
       "0    1      01/22/2020          Anhui  Mainland China  1/22/2020 17:00   \n",
       "1    2      01/22/2020        Beijing  Mainland China  1/22/2020 17:00   \n",
       "2    3      01/22/2020      Chongqing  Mainland China  1/22/2020 17:00   \n",
       "3    4      01/22/2020         Fujian  Mainland China  1/22/2020 17:00   \n",
       "4    5      01/22/2020          Gansu  Mainland China  1/22/2020 17:00   \n",
       "5    6      01/22/2020      Guangdong  Mainland China  1/22/2020 17:00   \n",
       "6    7      01/22/2020        Guangxi  Mainland China  1/22/2020 17:00   \n",
       "7    8      01/22/2020        Guizhou  Mainland China  1/22/2020 17:00   \n",
       "8    9      01/22/2020         Hainan  Mainland China  1/22/2020 17:00   \n",
       "9   10      01/22/2020          Hebei  Mainland China  1/22/2020 17:00   \n",
       "\n",
       "   Confirmed  Deaths  Recovered  \n",
       "0        1.0     0.0        0.0  \n",
       "1       14.0     0.0        0.0  \n",
       "2        6.0     0.0        0.0  \n",
       "3        1.0     0.0        0.0  \n",
       "4        0.0     0.0        0.0  \n",
       "5       26.0     0.0        0.0  \n",
       "6        2.0     0.0        0.0  \n",
       "7        1.0     0.0        0.0  \n",
       "8        4.0     0.0        0.0  \n",
       "9        1.0     0.0        0.0  "
      ]
     },
     "execution_count": 3,
     "metadata": {},
     "output_type": "execute_result"
    }
   ],
   "source": [
    "df_covid=pd.read_csv(\"covid_19_data.csv\")\n",
    "df_covid.head(10)"
   ]
  },
  {
   "cell_type": "code",
   "execution_count": 4,
   "metadata": {},
   "outputs": [
    {
     "name": "stdout",
     "output_type": "stream",
     "text": [
      "(18008, 8)\n",
      "SNo                   0\n",
      "ObservationDate       0\n",
      "Province/State     9096\n",
      "Country/Region        0\n",
      "Last Update           0\n",
      "Confirmed             0\n",
      "Deaths                0\n",
      "Recovered             0\n",
      "dtype: int64\n",
      "\n",
      " SNo                  int64\n",
      "ObservationDate     object\n",
      "Province/State      object\n",
      "Country/Region      object\n",
      "Last Update         object\n",
      "Confirmed          float64\n",
      "Deaths             float64\n",
      "Recovered          float64\n",
      "dtype: object\n"
     ]
    }
   ],
   "source": [
    "print(df_covid.shape)\n",
    "print(df_covid.isnull().sum())\n",
    "print(\"\\n\",df_covid.dtypes)"
   ]
  },
  {
   "cell_type": "code",
   "execution_count": 5,
   "metadata": {},
   "outputs": [],
   "source": [
    "#Dropping column as SNo is of no use, and \"Province/State\" contains too many missing values\n",
    "df_covid.drop([\"SNo\"],1,inplace=True)\n",
    "df_covid.drop([\"Province/State\"],1,inplace=True)"
   ]
  },
  {
   "cell_type": "code",
   "execution_count": 6,
   "metadata": {},
   "outputs": [
    {
     "data": {
      "text/html": [
       "<div>\n",
       "<style scoped>\n",
       "    .dataframe tbody tr th:only-of-type {\n",
       "        vertical-align: middle;\n",
       "    }\n",
       "\n",
       "    .dataframe tbody tr th {\n",
       "        vertical-align: top;\n",
       "    }\n",
       "\n",
       "    .dataframe thead th {\n",
       "        text-align: right;\n",
       "    }\n",
       "</style>\n",
       "<table border=\"1\" class=\"dataframe\">\n",
       "  <thead>\n",
       "    <tr style=\"text-align: right;\">\n",
       "      <th></th>\n",
       "      <th>ObservationDate</th>\n",
       "      <th>Country/Region</th>\n",
       "      <th>Last Update</th>\n",
       "      <th>Confirmed</th>\n",
       "      <th>Deaths</th>\n",
       "      <th>Recovered</th>\n",
       "    </tr>\n",
       "  </thead>\n",
       "  <tbody>\n",
       "    <tr>\n",
       "      <td>0</td>\n",
       "      <td>01/22/2020</td>\n",
       "      <td>Mainland China</td>\n",
       "      <td>1/22/2020 17:00</td>\n",
       "      <td>1.0</td>\n",
       "      <td>0.0</td>\n",
       "      <td>0.0</td>\n",
       "    </tr>\n",
       "    <tr>\n",
       "      <td>1</td>\n",
       "      <td>01/22/2020</td>\n",
       "      <td>Mainland China</td>\n",
       "      <td>1/22/2020 17:00</td>\n",
       "      <td>14.0</td>\n",
       "      <td>0.0</td>\n",
       "      <td>0.0</td>\n",
       "    </tr>\n",
       "    <tr>\n",
       "      <td>2</td>\n",
       "      <td>01/22/2020</td>\n",
       "      <td>Mainland China</td>\n",
       "      <td>1/22/2020 17:00</td>\n",
       "      <td>6.0</td>\n",
       "      <td>0.0</td>\n",
       "      <td>0.0</td>\n",
       "    </tr>\n",
       "    <tr>\n",
       "      <td>3</td>\n",
       "      <td>01/22/2020</td>\n",
       "      <td>Mainland China</td>\n",
       "      <td>1/22/2020 17:00</td>\n",
       "      <td>1.0</td>\n",
       "      <td>0.0</td>\n",
       "      <td>0.0</td>\n",
       "    </tr>\n",
       "    <tr>\n",
       "      <td>4</td>\n",
       "      <td>01/22/2020</td>\n",
       "      <td>Mainland China</td>\n",
       "      <td>1/22/2020 17:00</td>\n",
       "      <td>0.0</td>\n",
       "      <td>0.0</td>\n",
       "      <td>0.0</td>\n",
       "    </tr>\n",
       "    <tr>\n",
       "      <td>...</td>\n",
       "      <td>...</td>\n",
       "      <td>...</td>\n",
       "      <td>...</td>\n",
       "      <td>...</td>\n",
       "      <td>...</td>\n",
       "      <td>...</td>\n",
       "    </tr>\n",
       "    <tr>\n",
       "      <td>18003</td>\n",
       "      <td>04/23/2020</td>\n",
       "      <td>US</td>\n",
       "      <td>2020-04-24 03:31:35</td>\n",
       "      <td>453.0</td>\n",
       "      <td>7.0</td>\n",
       "      <td>0.0</td>\n",
       "    </tr>\n",
       "    <tr>\n",
       "      <td>18004</td>\n",
       "      <td>04/23/2020</td>\n",
       "      <td>Mainland China</td>\n",
       "      <td>2020-04-24 03:31:35</td>\n",
       "      <td>76.0</td>\n",
       "      <td>3.0</td>\n",
       "      <td>73.0</td>\n",
       "    </tr>\n",
       "    <tr>\n",
       "      <td>18005</td>\n",
       "      <td>04/23/2020</td>\n",
       "      <td>Canada</td>\n",
       "      <td>2020-04-24 03:31:35</td>\n",
       "      <td>11.0</td>\n",
       "      <td>0.0</td>\n",
       "      <td>0.0</td>\n",
       "    </tr>\n",
       "    <tr>\n",
       "      <td>18006</td>\n",
       "      <td>04/23/2020</td>\n",
       "      <td>Mainland China</td>\n",
       "      <td>2020-04-24 03:31:35</td>\n",
       "      <td>184.0</td>\n",
       "      <td>2.0</td>\n",
       "      <td>180.0</td>\n",
       "    </tr>\n",
       "    <tr>\n",
       "      <td>18007</td>\n",
       "      <td>04/23/2020</td>\n",
       "      <td>Mainland China</td>\n",
       "      <td>2020-04-24 03:31:35</td>\n",
       "      <td>1268.0</td>\n",
       "      <td>1.0</td>\n",
       "      <td>1256.0</td>\n",
       "    </tr>\n",
       "  </tbody>\n",
       "</table>\n",
       "<p>18008 rows × 6 columns</p>\n",
       "</div>"
      ],
      "text/plain": [
       "      ObservationDate  Country/Region          Last Update  Confirmed  Deaths  \\\n",
       "0          01/22/2020  Mainland China      1/22/2020 17:00        1.0     0.0   \n",
       "1          01/22/2020  Mainland China      1/22/2020 17:00       14.0     0.0   \n",
       "2          01/22/2020  Mainland China      1/22/2020 17:00        6.0     0.0   \n",
       "3          01/22/2020  Mainland China      1/22/2020 17:00        1.0     0.0   \n",
       "4          01/22/2020  Mainland China      1/22/2020 17:00        0.0     0.0   \n",
       "...               ...             ...                  ...        ...     ...   \n",
       "18003      04/23/2020              US  2020-04-24 03:31:35      453.0     7.0   \n",
       "18004      04/23/2020  Mainland China  2020-04-24 03:31:35       76.0     3.0   \n",
       "18005      04/23/2020          Canada  2020-04-24 03:31:35       11.0     0.0   \n",
       "18006      04/23/2020  Mainland China  2020-04-24 03:31:35      184.0     2.0   \n",
       "18007      04/23/2020  Mainland China  2020-04-24 03:31:35     1268.0     1.0   \n",
       "\n",
       "       Recovered  \n",
       "0            0.0  \n",
       "1            0.0  \n",
       "2            0.0  \n",
       "3            0.0  \n",
       "4            0.0  \n",
       "...          ...  \n",
       "18003        0.0  \n",
       "18004       73.0  \n",
       "18005        0.0  \n",
       "18006      180.0  \n",
       "18007     1256.0  \n",
       "\n",
       "[18008 rows x 6 columns]"
      ]
     },
     "execution_count": 6,
     "metadata": {},
     "output_type": "execute_result"
    }
   ],
   "source": [
    "df_covid"
   ]
  },
  {
   "cell_type": "code",
   "execution_count": 7,
   "metadata": {},
   "outputs": [],
   "source": [
    "#Converting \"Observation Date\" into Datetime format\n",
    "df_covid[\"ObservationDate\"]=pd.to_datetime(df_covid[\"ObservationDate\"])"
   ]
  },
  {
   "cell_type": "code",
   "execution_count": 8,
   "metadata": {},
   "outputs": [],
   "source": [
    "#Grouping different types of cases as per the date\n",
    "bydate=df_covid.groupby([\"ObservationDate\"]).agg({\"Confirmed\":'sum',\"Recovered\":'sum',\"Deaths\":'sum'})\n",
    "bydate[\"Days Since\"]=bydate.index-bydate.index.min()"
   ]
  },
  {
   "cell_type": "code",
   "execution_count": 9,
   "metadata": {},
   "outputs": [
    {
     "data": {
      "text/plain": [
       "(array([ 0,  1,  2,  3,  4,  5,  6,  7,  8,  9, 10, 11, 12, 13, 14, 15, 16,\n",
       "        17, 18, 19, 20, 21, 22, 23, 24, 25, 26, 27, 28, 29, 30, 31, 32, 33,\n",
       "        34, 35, 36, 37, 38, 39, 40, 41, 42, 43, 44, 45, 46, 47, 48, 49, 50,\n",
       "        51, 52, 53, 54, 55, 56, 57, 58, 59, 60, 61, 62, 63, 64, 65, 66, 67,\n",
       "        68, 69, 70, 71, 72, 73, 74, 75, 76, 77, 78, 79, 80, 81, 82, 83, 84,\n",
       "        85, 86, 87, 88, 89, 90, 91, 92]),\n",
       " <a list of 93 Text xticklabel objects>)"
      ]
     },
     "execution_count": 9,
     "metadata": {},
     "output_type": "execute_result"
    },
    {
     "data": {
      "image/png": "[encoded data removed]",
      "text/plain": [
       "<Figure size 1440x720 with 1 Axes>"
      ]
     },
     "metadata": {
      "needs_background": "light"
     },
     "output_type": "display_data"
    }
   ],
   "source": [
    "#plotting the distribution plot of active cases.\n",
    "plt.figure(figsize=(20,10))\n",
    "sns.barplot(x=bydate.index.date, y=bydate[\"Confirmed\"]-bydate[\"Recovered\"]-bydate[\"Deaths\"],palette=\"vlag\")\n",
    "plt.title(\"Distribution plot for Active cases\")\n",
    "plt.xticks(rotation=90)"
   ]
  },
  {
   "cell_type": "code",
   "execution_count": 10,
   "metadata": {},
   "outputs": [
    {
     "data": {
      "text/plain": [
       "(array([ 0,  1,  2,  3,  4,  5,  6,  7,  8,  9, 10, 11, 12, 13, 14, 15, 16,\n",
       "        17, 18, 19, 20, 21, 22, 23, 24, 25, 26, 27, 28, 29, 30, 31, 32, 33,\n",
       "        34, 35, 36, 37, 38, 39, 40, 41, 42, 43, 44, 45, 46, 47, 48, 49, 50,\n",
       "        51, 52, 53, 54, 55, 56, 57, 58, 59, 60, 61, 62, 63, 64, 65, 66, 67,\n",
       "        68, 69, 70, 71, 72, 73, 74, 75, 76, 77, 78, 79, 80, 81, 82, 83, 84,\n",
       "        85, 86, 87, 88, 89, 90, 91, 92]),\n",
       " <a list of 93 Text xticklabel objects>)"
      ]
     },
     "execution_count": 10,
     "metadata": {},
     "output_type": "execute_result"
    },
    {
     "data": {
      "image/png": "[encoded data removed]",
      "text/plain": [
       "<Figure size 1440x720 with 1 Axes>"
      ]
     },
     "metadata": {
      "needs_background": "light"
     },
     "output_type": "display_data"
    }
   ],
   "source": [
    "#plotting the distribution plot of cases over date\n",
    "plt.figure(figsize=(20,10))\n",
    "sns.barplot(x=bydate.index.date, y=bydate[\"Recovered\"]+bydate[\"Deaths\"], palette=\"vlag\")\n",
    "plt.title(\"Distribution Plot of Closed Cases\")\n",
    "plt.xticks(rotation=90)"
   ]
  },
  {
   "cell_type": "code",
   "execution_count": 12,
   "metadata": {},
   "outputs": [
    {
     "data": {
      "text/plain": [
       "<function matplotlib.pyplot.xlabel(xlabel, fontdict=None, labelpad=None, **kwargs)>"
      ]
     },
     "execution_count": 12,
     "metadata": {},
     "output_type": "execute_result"
    },
    {
     "data": {
      "image/png": "[encoded data removed]",
      "text/plain": [
       "<Figure size 576x360 with 1 Axes>"
      ]
     },
     "metadata": {
      "needs_background": "light"
     },
     "output_type": "display_data"
    }
   ],
   "source": [
    "#weekly progress plotted \n",
    "bydate[\"WeekOfYear\"]=bydate.index.weekofyear\n",
    "#initializing empty lists\n",
    "weekly_count=[]\n",
    "confirm_week=[]\n",
    "recover_week=[]\n",
    "death_week=[]\n",
    "w=1\n",
    "for i in list(bydate[\"WeekOfYear\"].unique()):\n",
    "    confirm_week.append(bydate[bydate[\"WeekOfYear\"]==i][\"Confirmed\"].iloc[-1])\n",
    "    recover_week.append(bydate[bydate[\"WeekOfYear\"]==i][\"Recovered\"].iloc[-1])\n",
    "    death_week.append(bydate[bydate[\"WeekOfYear\"]==i][\"Deaths\"].iloc[-1])\n",
    "    weekly_count.append(w)\n",
    "    w=w+1\n",
    "\n",
    "plt.figure(figsize=(8,5))\n",
    "plt.plot(weekly_count,confirm_week,linewidth=3)\n",
    "plt.plot(weekly_count,recover_week,linewidth=3)\n",
    "plt.plot(weekly_count,death_week,linewidth=3)\n",
    "plt.ylabel(\"Cases count\")\n",
    "plt.xlabel(\"Number of cases per week\")\n",
    "plt.title(\"Weekly progress of various Cases\")\n",
    "plt.xlabel"
   ]
  },
  {
   "cell_type": "code",
   "execution_count": 14,
   "metadata": {},
   "outputs": [
    {
     "data": {
      "image/png": "[encoded data removed]",
      "text/plain": [
       "<Figure size 288x288 with 2 Axes>"
      ]
     },
     "metadata": {
      "needs_background": "light"
     },
     "output_type": "display_data"
    }
   ],
   "source": [
    "plt.matshow(df_covid.corr())\n",
    "cb = plt.colorbar()\n",
    "cb.ax.tick_params(labelsize=5)\n",
    "plt.show()\n"
   ]
  },
  {
   "cell_type": "code",
   "execution_count": 15,
   "metadata": {},
   "outputs": [],
   "source": [
    "#Intializing SVR Model\n",
    "svm=SVR(C=1,degree=5,kernel='poly',epsilon=0.001)"
   ]
  },
  {
   "cell_type": "code",
   "execution_count": 16,
   "metadata": {},
   "outputs": [],
   "source": [
    "bydate[\"Days Since\"]=bydate.index-bydate.index[0]\n",
    "bydate[\"Days Since\"]=bydate[\"Days Since\"].dt.days"
   ]
  },
  {
   "cell_type": "code",
   "execution_count": 17,
   "metadata": {},
   "outputs": [],
   "source": [
    "train_ml=bydate.iloc[:int(bydate.shape[0]*0.95)]\n",
    "valid_ml=bydate.iloc[int(bydate.shape[0]*0.95):]\n",
    "model_scores=[]"
   ]
  },
  {
   "cell_type": "code",
   "execution_count": 18,
   "metadata": {},
   "outputs": [
    {
     "data": {
      "text/plain": [
       "SVR(C=1, cache_size=200, coef0=0.0, degree=5, epsilon=0.001, gamma='scale',\n",
       "    kernel='poly', max_iter=-1, shrinking=True, tol=0.001, verbose=False)"
      ]
     },
     "execution_count": 18,
     "metadata": {},
     "output_type": "execute_result"
    }
   ],
   "source": [
    "#Fitting model on the training data\n",
    "svm.fit(np.array(train_ml[\"Days Since\"]).reshape(-1,1),np.array(train_ml[\"Confirmed\"]).reshape(-1,1))"
   ]
  },
  {
   "cell_type": "code",
   "execution_count": 19,
   "metadata": {},
   "outputs": [],
   "source": [
    "prediction_valid_svm=svm.predict(np.array(valid_ml[\"Days Since\"]).reshape(-1,1))"
   ]
  },
  {
   "cell_type": "code",
   "execution_count": 20,
   "metadata": {},
   "outputs": [
    {
     "name": "stdout",
     "output_type": "stream",
     "text": [
      "Root Mean Square Error for Support Vectore Machine:  219832.01666711172\n"
     ]
    }
   ],
   "source": [
    "model_scores.append(np.sqrt(mean_squared_error(valid_ml[\"Confirmed\"],prediction_valid_svm)))\n",
    "print(\"Root Mean Square Error for Support Vectore Machine: \",np.sqrt(mean_squared_error(valid_ml[\"Confirmed\"],prediction_valid_svm)))"
   ]
  },
  {
   "cell_type": "code",
   "execution_count": 63,
   "metadata": {},
   "outputs": [
    {
     "data": {
      "text/plain": [
       "<matplotlib.legend.Legend at 0x7f8a6a48f198>"
      ]
     },
     "execution_count": 63,
     "metadata": {},
     "output_type": "execute_result"
    },
    {
     "data": {
      "image/png": "[encoded data removed]",
      "text/plain": [
       "<Figure size 432x288 with 1 Axes>"
      ]
     },
     "metadata": {
      "needs_background": "light"
     },
     "output_type": "display_data"
    }
   ],
   "source": [
    "prediction_svm=svm.predict(np.array(bydate[\"Days Since\"]).reshape(-1,1))\n",
    "plt.plot(bydate[\"Confirmed\"],label=\"Train Confirmed Cases\",linewidth=3)\n",
    "plt.plot(bydate.index,prediction_svm, linestyle='--',label=\"Best Fit for SVR\",color='black')\n",
    "plt.xlabel('Time')\n",
    "plt.ylabel('Confirmed Cases')\n",
    "plt.title(\"Confirmed Cases SVM Prediction\")\n",
    "plt.xticks(rotation=90)\n",
    "plt.legend()"
   ]
  },
  {
   "cell_type": "markdown",
   "metadata": {},
   "source": [
    "CLustering of Countries"
   ]
  },
  {
   "cell_type": "code",
   "execution_count": 22,
   "metadata": {},
   "outputs": [],
   "source": [
    "#Calculating countrywise Moratality and Recovery Rate\n",
    "countrywise=df_covid[df_covid[\"ObservationDate\"]==df_covid[\"ObservationDate\"].max()].groupby([\"Country/Region\"]).agg({\"Confirmed\":'sum',\"Recovered\":'sum',\"Deaths\":'sum'}).sort_values([\"Confirmed\"],ascending=False)\n",
    "countrywise[\"Mortality\"]=(countrywise[\"Deaths\"]/countrywise[\"Confirmed\"])*100\n",
    "countrywise[\"Recovery\"]=(countrywise[\"Recovered\"]/countrywise[\"Confirmed\"])*100"
   ]
  },
  {
   "cell_type": "code",
   "execution_count": 23,
   "metadata": {},
   "outputs": [],
   "source": [
    "X=countrywise[[\"Confirmed\",\"Recovered\",\"Deaths\"]]\n",
    "X=std.fit_transform(X)"
   ]
  },
  {
   "cell_type": "code",
   "execution_count": 24,
   "metadata": {},
   "outputs": [],
   "source": [
    "wcss=[]\n",
    "sil=[]\n",
    "for i in range(2,11):\n",
    "    clf=KMeans(n_clusters=i,init='k-means++',random_state=42)\n",
    "    clf.fit(X)\n",
    "    labels=clf.labels_\n",
    "    centroids=clf.cluster_centers_\n",
    "    sil.append(silhouette_score(X, labels, metric='euclidean'))\n",
    "    wcss.append(clf.inertia_)"
   ]
  },
  {
   "cell_type": "code",
   "execution_count": 25,
   "metadata": {},
   "outputs": [
    {
     "data": {
      "text/plain": [
       "KMeans(algorithm='auto', copy_x=True, init='k-means++', max_iter=300,\n",
       "       n_clusters=4, n_init=10, n_jobs=None, precompute_distances='auto',\n",
       "       random_state=42, tol=0.0001, verbose=0)"
      ]
     },
     "execution_count": 25,
     "metadata": {},
     "output_type": "execute_result"
    }
   ],
   "source": [
    "clf_final=KMeans(n_clusters=4,init='k-means++',random_state=42)\n",
    "clf_final.fit(X)\n"
   ]
  },
  {
   "cell_type": "code",
   "execution_count": 26,
   "metadata": {},
   "outputs": [],
   "source": [
    "clf_pred=clf_final.predict(X)"
   ]
  },
  {
   "cell_type": "code",
   "execution_count": 27,
   "metadata": {},
   "outputs": [],
   "source": [
    "countrywise[\"Clusters\"]=clf_final.predict(X)"
   ]
  },
  {
   "cell_type": "markdown",
   "metadata": {},
   "source": [
    "Liner Regression"
   ]
  },
  {
   "cell_type": "code",
   "execution_count": 28,
   "metadata": {},
   "outputs": [],
   "source": [
    "bydate[\"Days Since\"]=bydate.index-bydate.index[0]\n",
    "bydate[\"Days Since\"]=bydate[\"Days Since\"].dt.days"
   ]
  },
  {
   "cell_type": "code",
   "execution_count": 29,
   "metadata": {},
   "outputs": [],
   "source": [
    "train_ml=bydate.iloc[:int(bydate.shape[0]*0.95)]\n",
    "valid_ml=bydate.iloc[int(bydate.shape[0]*0.95):]\n",
    "model_scores=[]"
   ]
  },
  {
   "cell_type": "code",
   "execution_count": 30,
   "metadata": {},
   "outputs": [],
   "source": [
    "lin_reg=LinearRegression(normalize=True)"
   ]
  },
  {
   "cell_type": "code",
   "execution_count": 31,
   "metadata": {},
   "outputs": [
    {
     "data": {
      "text/plain": [
       "LinearRegression(copy_X=True, fit_intercept=True, n_jobs=None, normalize=True)"
      ]
     },
     "execution_count": 31,
     "metadata": {},
     "output_type": "execute_result"
    }
   ],
   "source": [
    "lin_reg.fit(np.array(train_ml[\"Days Since\"]).reshape(-1,1),np.array(train_ml[\"Confirmed\"]).reshape(-1,1))"
   ]
  },
  {
   "cell_type": "code",
   "execution_count": 32,
   "metadata": {},
   "outputs": [],
   "source": [
    "prediction_valid_linreg=lin_reg.predict(np.array(valid_ml[\"Days Since\"]).reshape(-1,1))"
   ]
  },
  {
   "cell_type": "code",
   "execution_count": 33,
   "metadata": {},
   "outputs": [
    {
     "name": "stdout",
     "output_type": "stream",
     "text": [
      "Root Mean Square Error for Linear Regression:  1126459.1341621012\n"
     ]
    }
   ],
   "source": [
    "model_scores.append(np.sqrt(mean_squared_error(valid_ml[\"Confirmed\"],prediction_valid_linreg)))\n",
    "print(\"Root Mean Square Error for Linear Regression: \",np.sqrt(mean_squared_error(valid_ml[\"Confirmed\"],prediction_valid_linreg)))"
   ]
  },
  {
   "cell_type": "code",
   "execution_count": 34,
   "metadata": {},
   "outputs": [
    {
     "data": {
      "text/plain": [
       "<matplotlib.legend.Legend at 0x7f8a6cc20198>"
      ]
     },
     "execution_count": 34,
     "metadata": {},
     "output_type": "execute_result"
    },
    {
     "data": {
      "image/png": "[encoded data removed]",
      "text/plain": [
       "<Figure size 432x288 with 1 Axes>"
      ]
     },
     "metadata": {
      "needs_background": "light"
     },
     "output_type": "display_data"
    }
   ],
   "source": [
    "prediction_linreg=lin_reg.predict(np.array(bydate[\"Days Since\"]).reshape(-1,1))\n",
    "plt.plot(bydate[\"Confirmed\"],label=\"Actual Confirmed Cases\")\n",
    "plt.plot(bydate.index,prediction_linreg, linestyle='--',label=\"Predicted Confirmed Cases using Linear Regression\",color='black')\n",
    "plt.xlabel('Time')\n",
    "plt.ylabel('Confirmed Cases')\n",
    "plt.title(\"Confirmed Cases Linear Regression Prediction\")\n",
    "plt.xticks(rotation=90)\n",
    "plt.legend()"
   ]
  },
  {
   "cell_type": "code",
   "execution_count": 35,
   "metadata": {},
   "outputs": [],
   "source": [
    "new_date=[]\n",
    "new_prediction_lr=[]\n",
    "new_prediction_svm=[]\n",
    "for i in range(1,18):\n",
    "    new_date.append(bydate.index[-1]+timedelta(days=i))\n",
    "    new_prediction_lr.append(lin_reg.predict(np.array(bydate[\"Days Since\"].max()+i).reshape(-1,1))[0][0])\n",
    "    new_prediction_svm.append(svm.predict(np.array(bydate[\"Days Since\"].max()+i).reshape(-1,1))[0])"
   ]
  },
  {
   "cell_type": "code",
   "execution_count": 36,
   "metadata": {},
   "outputs": [
    {
     "data": {
      "text/html": [
       "<div>\n",
       "<style scoped>\n",
       "    .dataframe tbody tr th:only-of-type {\n",
       "        vertical-align: middle;\n",
       "    }\n",
       "\n",
       "    .dataframe tbody tr th {\n",
       "        vertical-align: top;\n",
       "    }\n",
       "\n",
       "    .dataframe thead th {\n",
       "        text-align: right;\n",
       "    }\n",
       "</style>\n",
       "<table border=\"1\" class=\"dataframe\">\n",
       "  <thead>\n",
       "    <tr style=\"text-align: right;\">\n",
       "      <th></th>\n",
       "      <th>Dates</th>\n",
       "      <th>Linear Regression Prediction</th>\n",
       "      <th>SVM Prediction</th>\n",
       "    </tr>\n",
       "  </thead>\n",
       "  <tbody>\n",
       "    <tr>\n",
       "      <th>0</th>\n",
       "      <td>2020-04-24</td>\n",
       "      <td>1490136.613267</td>\n",
       "      <td>3218615.477537</td>\n",
       "    </tr>\n",
       "    <tr>\n",
       "      <th>1</th>\n",
       "      <td>2020-04-25</td>\n",
       "      <td>1511065.843287</td>\n",
       "      <td>3393133.975194</td>\n",
       "    </tr>\n",
       "    <tr>\n",
       "      <th>2</th>\n",
       "      <td>2020-04-26</td>\n",
       "      <td>1531995.073307</td>\n",
       "      <td>3575238.917801</td>\n",
       "    </tr>\n",
       "    <tr>\n",
       "      <th>3</th>\n",
       "      <td>2020-04-27</td>\n",
       "      <td>1552924.303327</td>\n",
       "      <td>3765175.001545</td>\n",
       "    </tr>\n",
       "    <tr>\n",
       "      <th>4</th>\n",
       "      <td>2020-04-28</td>\n",
       "      <td>1573853.533347</td>\n",
       "      <td>3963192.128627</td>\n",
       "    </tr>\n",
       "  </tbody>\n",
       "</table>\n",
       "</div>"
      ],
      "text/plain": [
       "       Dates  Linear Regression Prediction  SVM Prediction\n",
       "0 2020-04-24                1490136.613267  3218615.477537\n",
       "1 2020-04-25                1511065.843287  3393133.975194\n",
       "2 2020-04-26                1531995.073307  3575238.917801\n",
       "3 2020-04-27                1552924.303327  3765175.001545\n",
       "4 2020-04-28                1573853.533347  3963192.128627"
      ]
     },
     "execution_count": 36,
     "metadata": {},
     "output_type": "execute_result"
    }
   ],
   "source": [
    "pd.set_option('display.float_format', lambda x: '%.6f' % x)\n",
    "model_predictions=pd.DataFrame(zip(new_date,new_prediction_lr,new_prediction_svm),columns=[\"Dates\",\"Linear Regression Prediction\",\"SVM Prediction\"])\n",
    "model_predictions.head()"
   ]
  },
  {
   "cell_type": "markdown",
   "metadata": {},
   "source": [
    "Kmeans clustering"
   ]
  },
  {
   "cell_type": "code",
   "execution_count": 56,
   "metadata": {},
   "outputs": [],
   "source": [
    "#Calculating countrywise Moratality and Recovery Rate\n",
    "countrywise=df_covid[df_covid[\"ObservationDate\"]==df_covid[\"ObservationDate\"].max()].groupby([\"Country/Region\"]).agg({\"Confirmed\":'sum',\"Recovered\":'sum',\"Deaths\":'sum'}).sort_values([\"Confirmed\"],ascending=False)\n",
    "countrywise[\"Mortality\"]=(countrywise[\"Deaths\"]/countrywise[\"Confirmed\"])*100\n",
    "countrywise[\"Recovery\"]=(countrywise[\"Recovered\"]/countrywise[\"Confirmed\"])*100"
   ]
  },
  {
   "cell_type": "code",
   "execution_count": 57,
   "metadata": {},
   "outputs": [],
   "source": [
    "X=countrywise[[\"Confirmed\",\"Recovered\",\"Deaths\"]]\n",
    "X=std.fit_transform(X)"
   ]
  },
  {
   "cell_type": "code",
   "execution_count": 58,
   "metadata": {},
   "outputs": [],
   "source": [
    "myL=[]\n",
    "myL1=[]\n",
    "for i in range(2,11):\n",
    "    clf=KMeans(n_clusters=i,init='k-means++',random_state=42)\n",
    "    clf.fit(X)\n",
    "    labels=clf.labels_\n",
    "    centroids=clf.cluster_centers_\n",
    "    myL1.append(silhouette_score(X, labels, metric='euclidean'))\n",
    "    myL.append(clf.inertia_)"
   ]
  },
  {
   "cell_type": "code",
   "execution_count": 60,
   "metadata": {},
   "outputs": [
    {
     "data": {
      "text/plain": [
       "Text(0.5, 0, 'Number of Clusters')"
      ]
     },
     "execution_count": 60,
     "metadata": {},
     "output_type": "execute_result"
    },
    {
     "data": {
      "image/png": "[encoded data removed]",
      "text/plain": [
       "<Figure size 1152x360 with 2 Axes>"
      ]
     },
     "metadata": {
      "needs_background": "light"
     },
     "output_type": "display_data"
    }
   ],
   "source": [
    "fig, (ax1, ax2) = plt.subplots(1, 2,figsize=(16,5))\n",
    "x=np.arange(2,11)\n",
    "ax1.plot(x,myL,marker='o')\n",
    "ax1.set_xlabel(\"Number of Clusters\")\n",
    "ax1.set_ylabel(\"Sum of Squares withing CLusters\")\n",
    "x=np.arange(2,11)\n",
    "ax2.plot(x,myL1,marker='o')\n",
    "ax2.set_xlabel(\"Number of Clusters\")\n"
   ]
  },
  {
   "cell_type": "code",
   "execution_count": 66,
   "metadata": {},
   "outputs": [
    {
     "data": {
      "text/plain": [
       "KMeans(algorithm='auto', copy_x=True, init='k-means++', max_iter=300,\n",
       "       n_clusters=4, n_init=10, n_jobs=None, precompute_distances='auto',\n",
       "       random_state=42, tol=0.0001, verbose=0)"
      ]
     },
     "execution_count": 66,
     "metadata": {},
     "output_type": "execute_result"
    }
   ],
   "source": [
    "clf_final=KMeans(n_clusters=4,init='k-means++',random_state=42)\n",
    "clf_final.fit(X)"
   ]
  },
  {
   "cell_type": "code",
   "execution_count": 67,
   "metadata": {},
   "outputs": [],
   "source": [
    "countrywise[\"Clusters\"]=clf_final.predict(X)"
   ]
  },
  {
   "cell_type": "code",
   "execution_count": 68,
   "metadata": {},
   "outputs": [],
   "source": [
    "#Summary of Clusters"
   ]
  },
  {
   "cell_type": "code",
   "execution_count": 69,
   "metadata": {},
   "outputs": [
    {
     "data": {
      "text/html": [
       "<div>\n",
       "<style scoped>\n",
       "    .dataframe tbody tr th:only-of-type {\n",
       "        vertical-align: middle;\n",
       "    }\n",
       "\n",
       "    .dataframe tbody tr th {\n",
       "        vertical-align: top;\n",
       "    }\n",
       "\n",
       "    .dataframe thead th {\n",
       "        text-align: right;\n",
       "    }\n",
       "</style>\n",
       "<table border=\"1\" class=\"dataframe\">\n",
       "  <thead>\n",
       "    <tr style=\"text-align: right;\">\n",
       "      <th></th>\n",
       "      <th>Confirmed</th>\n",
       "      <th>Recovered</th>\n",
       "      <th>Deaths</th>\n",
       "      <th>Mortality</th>\n",
       "      <th>Recovery</th>\n",
       "      <th>Clusters</th>\n",
       "    </tr>\n",
       "    <tr>\n",
       "      <th>Country/Region</th>\n",
       "      <th></th>\n",
       "      <th></th>\n",
       "      <th></th>\n",
       "      <th></th>\n",
       "      <th></th>\n",
       "      <th></th>\n",
       "    </tr>\n",
       "  </thead>\n",
       "  <tbody>\n",
       "    <tr>\n",
       "      <th>Spain</th>\n",
       "      <td>213024.000000</td>\n",
       "      <td>89250.000000</td>\n",
       "      <td>22157.000000</td>\n",
       "      <td>10.401175</td>\n",
       "      <td>41.896688</td>\n",
       "      <td>1</td>\n",
       "    </tr>\n",
       "    <tr>\n",
       "      <th>Italy</th>\n",
       "      <td>189973.000000</td>\n",
       "      <td>57576.000000</td>\n",
       "      <td>25549.000000</td>\n",
       "      <td>13.448753</td>\n",
       "      <td>30.307465</td>\n",
       "      <td>1</td>\n",
       "    </tr>\n",
       "    <tr>\n",
       "      <th>France</th>\n",
       "      <td>159460.000000</td>\n",
       "      <td>42762.000000</td>\n",
       "      <td>21889.000000</td>\n",
       "      <td>13.726953</td>\n",
       "      <td>26.816757</td>\n",
       "      <td>1</td>\n",
       "    </tr>\n",
       "    <tr>\n",
       "      <th>UK</th>\n",
       "      <td>139246.000000</td>\n",
       "      <td>712.000000</td>\n",
       "      <td>18791.000000</td>\n",
       "      <td>13.494822</td>\n",
       "      <td>0.511325</td>\n",
       "      <td>1</td>\n",
       "    </tr>\n",
       "    <tr>\n",
       "      <th>US</th>\n",
       "      <td>869170.000000</td>\n",
       "      <td>80203.000000</td>\n",
       "      <td>49954.000000</td>\n",
       "      <td>5.747322</td>\n",
       "      <td>9.227539</td>\n",
       "      <td>2</td>\n",
       "    </tr>\n",
       "    <tr>\n",
       "      <th>Germany</th>\n",
       "      <td>153129.000000</td>\n",
       "      <td>103300.000000</td>\n",
       "      <td>5575.000000</td>\n",
       "      <td>3.640721</td>\n",
       "      <td>67.459462</td>\n",
       "      <td>3</td>\n",
       "    </tr>\n",
       "    <tr>\n",
       "      <th>Iran</th>\n",
       "      <td>87026.000000</td>\n",
       "      <td>64843.000000</td>\n",
       "      <td>5481.000000</td>\n",
       "      <td>6.298118</td>\n",
       "      <td>74.509917</td>\n",
       "      <td>3</td>\n",
       "    </tr>\n",
       "    <tr>\n",
       "      <th>Mainland China</th>\n",
       "      <td>82804.000000</td>\n",
       "      <td>77257.000000</td>\n",
       "      <td>4632.000000</td>\n",
       "      <td>5.593933</td>\n",
       "      <td>93.301048</td>\n",
       "      <td>3</td>\n",
       "    </tr>\n",
       "    <tr>\n",
       "      <th>Turkey</th>\n",
       "      <td>101790.000000</td>\n",
       "      <td>18491.000000</td>\n",
       "      <td>2491.000000</td>\n",
       "      <td>2.447195</td>\n",
       "      <td>18.165832</td>\n",
       "      <td>0</td>\n",
       "    </tr>\n",
       "    <tr>\n",
       "      <th>Russia</th>\n",
       "      <td>62773.000000</td>\n",
       "      <td>4891.000000</td>\n",
       "      <td>555.000000</td>\n",
       "      <td>0.884138</td>\n",
       "      <td>7.791566</td>\n",
       "      <td>0</td>\n",
       "    </tr>\n",
       "    <tr>\n",
       "      <th>Brazil</th>\n",
       "      <td>50036.000000</td>\n",
       "      <td>26573.000000</td>\n",
       "      <td>3331.000000</td>\n",
       "      <td>6.657207</td>\n",
       "      <td>53.107762</td>\n",
       "      <td>0</td>\n",
       "    </tr>\n",
       "    <tr>\n",
       "      <th>Canada</th>\n",
       "      <td>43286.000000</td>\n",
       "      <td>14761.000000</td>\n",
       "      <td>2241.000000</td>\n",
       "      <td>5.177194</td>\n",
       "      <td>34.101095</td>\n",
       "      <td>0</td>\n",
       "    </tr>\n",
       "    <tr>\n",
       "      <th>Belgium</th>\n",
       "      <td>42797.000000</td>\n",
       "      <td>9800.000000</td>\n",
       "      <td>6490.000000</td>\n",
       "      <td>15.164614</td>\n",
       "      <td>22.898801</td>\n",
       "      <td>0</td>\n",
       "    </tr>\n",
       "    <tr>\n",
       "      <th>Netherlands</th>\n",
       "      <td>35921.000000</td>\n",
       "      <td>101.000000</td>\n",
       "      <td>4192.000000</td>\n",
       "      <td>11.670054</td>\n",
       "      <td>0.281173</td>\n",
       "      <td>0</td>\n",
       "    </tr>\n",
       "    <tr>\n",
       "      <th>Switzerland</th>\n",
       "      <td>28496.000000</td>\n",
       "      <td>20600.000000</td>\n",
       "      <td>1549.000000</td>\n",
       "      <td>5.435851</td>\n",
       "      <td>72.290848</td>\n",
       "      <td>0</td>\n",
       "    </tr>\n",
       "    <tr>\n",
       "      <th>India</th>\n",
       "      <td>23077.000000</td>\n",
       "      <td>5012.000000</td>\n",
       "      <td>721.000000</td>\n",
       "      <td>3.124323</td>\n",
       "      <td>21.718594</td>\n",
       "      <td>0</td>\n",
       "    </tr>\n",
       "    <tr>\n",
       "      <th>Portugal</th>\n",
       "      <td>22353.000000</td>\n",
       "      <td>1201.000000</td>\n",
       "      <td>820.000000</td>\n",
       "      <td>3.668411</td>\n",
       "      <td>5.372881</td>\n",
       "      <td>0</td>\n",
       "    </tr>\n",
       "    <tr>\n",
       "      <th>Peru</th>\n",
       "      <td>20914.000000</td>\n",
       "      <td>7422.000000</td>\n",
       "      <td>572.000000</td>\n",
       "      <td>2.735010</td>\n",
       "      <td>35.488190</td>\n",
       "      <td>0</td>\n",
       "    </tr>\n",
       "    <tr>\n",
       "      <th>Ireland</th>\n",
       "      <td>17607.000000</td>\n",
       "      <td>9233.000000</td>\n",
       "      <td>794.000000</td>\n",
       "      <td>4.509570</td>\n",
       "      <td>52.439371</td>\n",
       "      <td>0</td>\n",
       "    </tr>\n",
       "    <tr>\n",
       "      <th>Sweden</th>\n",
       "      <td>16755.000000</td>\n",
       "      <td>550.000000</td>\n",
       "      <td>2021.000000</td>\n",
       "      <td>12.062071</td>\n",
       "      <td>3.282602</td>\n",
       "      <td>0</td>\n",
       "    </tr>\n",
       "    <tr>\n",
       "      <th>Austria</th>\n",
       "      <td>15002.000000</td>\n",
       "      <td>11694.000000</td>\n",
       "      <td>522.000000</td>\n",
       "      <td>3.479536</td>\n",
       "      <td>77.949607</td>\n",
       "      <td>0</td>\n",
       "    </tr>\n",
       "    <tr>\n",
       "      <th>Israel</th>\n",
       "      <td>14803.000000</td>\n",
       "      <td>5611.000000</td>\n",
       "      <td>192.000000</td>\n",
       "      <td>1.297034</td>\n",
       "      <td>37.904479</td>\n",
       "      <td>0</td>\n",
       "    </tr>\n",
       "    <tr>\n",
       "      <th>Saudi Arabia</th>\n",
       "      <td>13930.000000</td>\n",
       "      <td>1925.000000</td>\n",
       "      <td>121.000000</td>\n",
       "      <td>0.868629</td>\n",
       "      <td>13.819095</td>\n",
       "      <td>0</td>\n",
       "    </tr>\n",
       "  </tbody>\n",
       "</table>\n",
       "</div>"
      ],
      "text/plain": [
       "                   Confirmed     Recovered       Deaths  Mortality  Recovery  \\\n",
       "Country/Region                                                                 \n",
       "Spain          213024.000000  89250.000000 22157.000000  10.401175 41.896688   \n",
       "Italy          189973.000000  57576.000000 25549.000000  13.448753 30.307465   \n",
       "France         159460.000000  42762.000000 21889.000000  13.726953 26.816757   \n",
       "UK             139246.000000    712.000000 18791.000000  13.494822  0.511325   \n",
       "US             869170.000000  80203.000000 49954.000000   5.747322  9.227539   \n",
       "Germany        153129.000000 103300.000000  5575.000000   3.640721 67.459462   \n",
       "Iran            87026.000000  64843.000000  5481.000000   6.298118 74.509917   \n",
       "Mainland China  82804.000000  77257.000000  4632.000000   5.593933 93.301048   \n",
       "Turkey         101790.000000  18491.000000  2491.000000   2.447195 18.165832   \n",
       "Russia          62773.000000   4891.000000   555.000000   0.884138  7.791566   \n",
       "Brazil          50036.000000  26573.000000  3331.000000   6.657207 53.107762   \n",
       "Canada          43286.000000  14761.000000  2241.000000   5.177194 34.101095   \n",
       "Belgium         42797.000000   9800.000000  6490.000000  15.164614 22.898801   \n",
       "Netherlands     35921.000000    101.000000  4192.000000  11.670054  0.281173   \n",
       "Switzerland     28496.000000  20600.000000  1549.000000   5.435851 72.290848   \n",
       "India           23077.000000   5012.000000   721.000000   3.124323 21.718594   \n",
       "Portugal        22353.000000   1201.000000   820.000000   3.668411  5.372881   \n",
       "Peru            20914.000000   7422.000000   572.000000   2.735010 35.488190   \n",
       "Ireland         17607.000000   9233.000000   794.000000   4.509570 52.439371   \n",
       "Sweden          16755.000000    550.000000  2021.000000  12.062071  3.282602   \n",
       "Austria         15002.000000  11694.000000   522.000000   3.479536 77.949607   \n",
       "Israel          14803.000000   5611.000000   192.000000   1.297034 37.904479   \n",
       "Saudi Arabia    13930.000000   1925.000000   121.000000   0.868629 13.819095   \n",
       "\n",
       "                Clusters  \n",
       "Country/Region            \n",
       "Spain                  1  \n",
       "Italy                  1  \n",
       "France                 1  \n",
       "UK                     1  \n",
       "US                     2  \n",
       "Germany                3  \n",
       "Iran                   3  \n",
       "Mainland China         3  \n",
       "Turkey                 0  \n",
       "Russia                 0  \n",
       "Brazil                 0  \n",
       "Canada                 0  \n",
       "Belgium                0  \n",
       "Netherlands            0  \n",
       "Switzerland            0  \n",
       "India                  0  \n",
       "Portugal               0  \n",
       "Peru                   0  \n",
       "Ireland                0  \n",
       "Sweden                 0  \n",
       "Austria                0  \n",
       "Israel                 0  \n",
       "Saudi Arabia           0  "
      ]
     },
     "execution_count": 69,
     "metadata": {},
     "output_type": "execute_result"
    }
   ],
   "source": [
    "pd.concat([countrywise[countrywise[\"Clusters\"]==1],countrywise[countrywise[\"Clusters\"]==2],countrywise[countrywise[\"Clusters\"]==3],countrywise[countrywise[\"Clusters\"]==0].head(15)])"
   ]
  },
  {
   "cell_type": "code",
   "execution_count": 71,
   "metadata": {},
   "outputs": [
    {
     "data": {
      "text/plain": [
       "<matplotlib.axes._subplots.AxesSubplot at 0x7f8a6a217f28>"
      ]
     },
     "execution_count": 71,
     "metadata": {},
     "output_type": "execute_result"
    },
    {
     "data": {
      "image/png": "[encoded data removed]",
      "text/plain": [
       "<Figure size 432x288 with 1 Axes>"
      ]
     },
     "metadata": {
      "needs_background": "light"
     },
     "output_type": "display_data"
    }
   ],
   "source": [
    "sns.scatterplot(x=countrywise[\"Confirmed\"],y=countrywise[\"Deaths\"],hue=countrywise[\"Clusters\"],s=100)"
   ]
  },
  {
   "cell_type": "markdown",
   "metadata": {},
   "source": [
    "Holts Winter Forecasting Model"
   ]
  },
  {
   "cell_type": "code",
   "execution_count": 72,
   "metadata": {},
   "outputs": [],
   "source": [
    "model_train=bydate.iloc[:int(bydate.shape[0]*0.95)]\n",
    "valid=bydate.iloc[int(bydate.shape[0]*0.95):]\n",
    "y_pred=valid.copy()"
   ]
  },
  {
   "cell_type": "code",
   "execution_count": 73,
   "metadata": {},
   "outputs": [],
   "source": [
    "holts=Holt(np.asarray(model_train[\"Confirmed\"])).fit(smoothing_level=0.9, smoothing_slope=0.1)\n",
    "y_pred=valid.copy()"
   ]
  },
  {
   "cell_type": "code",
   "execution_count": 74,
   "metadata": {},
   "outputs": [
    {
     "name": "stdout",
     "output_type": "stream",
     "text": [
      "Root Mean Square Error Holt's Linear Model:  8425.517798000774\n"
     ]
    }
   ],
   "source": [
    "y_pred[\"Holt\"]=holts.forecast(len(valid))\n",
    "model_scores.append(np.sqrt(mean_squared_error(y_pred[\"Confirmed\"],y_pred[\"Holt\"])))\n",
    "print(\"Root Mean Square Error Holt's Linear Model: \",np.sqrt(mean_squared_error(y_pred[\"Confirmed\"],y_pred[\"Holt\"])))"
   ]
  },
  {
   "cell_type": "code",
   "execution_count": 75,
   "metadata": {},
   "outputs": [
    {
     "data": {
      "text/plain": [
       "<matplotlib.legend.Legend at 0x7f8a6a1976a0>"
      ]
     },
     "execution_count": 75,
     "metadata": {},
     "output_type": "execute_result"
    },
    {
     "data": {
      "image/png": "[encoded data removed]",
      "text/plain": [
       "<Figure size 432x288 with 1 Axes>"
      ]
     },
     "metadata": {
      "needs_background": "light"
     },
     "output_type": "display_data"
    }
   ],
   "source": [
    "plt.plot(model_train.Confirmed,label=\"Train Set\",marker='o')\n",
    "valid.Confirmed.plot(label=\"Validation Set\",marker='*')\n",
    "y_pred.Holt.plot(label=\"Holt's Linear Model Predicted Set\",marker='^')\n",
    "plt.ylabel(\"Confirmed Cases\")\n",
    "plt.xlabel(\"Date Time\")\n",
    "plt.title(\"Confirmed Holt's Linear Model Prediction\")\n",
    "plt.xticks(rotation=90)\n",
    "plt.legend()"
   ]
  },
  {
   "cell_type": "code",
   "execution_count": 76,
   "metadata": {},
   "outputs": [
    {
     "data": {
      "text/plain": [
       "[<matplotlib.lines.Line2D at 0x7f8a6a0d6b00>]"
      ]
     },
     "execution_count": 76,
     "metadata": {},
     "output_type": "execute_result"
    },
    {
     "data": {
      "image/png": "[encoded data removed]",
      "text/plain": [
       "<Figure size 1080x504 with 3 Axes>"
      ]
     },
     "metadata": {
      "needs_background": "light"
     },
     "output_type": "display_data"
    }
   ],
   "source": [
    "fig, (ax1,ax2,ax3) = plt.subplots(3, 1,figsize=(15,7))\n",
    "import statsmodels.api as sm\n",
    "results=sm.tsa.seasonal_decompose(model_train[\"Confirmed\"])\n",
    "ax1.plot(results.trend)\n",
    "ax2.plot(results.seasonal)\n",
    "ax3.plot(results.resid)"
   ]
  },
  {
   "cell_type": "code",
   "execution_count": 14,
   "metadata": {},
   "outputs": [],
   "source": [
    "from sklearn.linear_model import LinearRegression,LogisticRegression\n",
    "from sklearn.tree import DecisionTreeRegressor\n",
    "import warnings\n",
    "warnings.filterwarnings('ignore')\n",
    "linear=LinearRegression()\n",
    "logistic=LogisticRegression()\n",
    "tree=DecisionTreeRegressor()"
   ]
  },
  {
   "cell_type": "code",
   "execution_count": 24,
   "metadata": {},
   "outputs": [],
   "source": [
    "    df_covid['ObservationDate']=df_covid['ObservationDate'].astype('datetime64[ns]')"
   ]
  },
  {
   "cell_type": "code",
   "execution_count": 22,
   "metadata": {},
   "outputs": [],
   "source": [
    "from sklearn.model_selection import train_test_split\n",
    "x=df_covid[['Deaths','Recovered']]\n",
    "y=df_covid['Confirmed']\n",
    "x_train,x_test,y_train,y_test=train_test_split(x,y,test_size=0.2,random_state=0)"
   ]
  },
  {
   "cell_type": "code",
   "execution_count": 23,
   "metadata": {},
   "outputs": [
    {
     "data": {
      "text/plain": [
       "DecisionTreeRegressor(criterion='mse', max_depth=None, max_features=None,\n",
       "                      max_leaf_nodes=None, min_impurity_decrease=0.0,\n",
       "                      min_impurity_split=None, min_samples_leaf=1,\n",
       "                      min_samples_split=2, min_weight_fraction_leaf=0.0,\n",
       "                      presort=False, random_state=None, splitter='best')"
      ]
     },
     "execution_count": 23,
     "metadata": {},
     "output_type": "execute_result"
    }
   ],
   "source": [
    "linear.fit(x_train,y_train)\n",
    "logistic.fit(x_train,y_train)\n",
    "tree.fit(x_train,y_train)"
   ]
  },
  {
   "cell_type": "code",
   "execution_count": 27,
   "metadata": {},
   "outputs": [
    {
     "ename": "SyntaxError",
     "evalue": "invalid syntax (<ipython-input-27-1e0b5ed66de4>, line 2)",
     "output_type": "error",
     "traceback": [
      "\u001b[1;36m  File \u001b[1;32m\"<ipython-input-27-1e0b5ed66de4>\"\u001b[1;36m, line \u001b[1;32m2\u001b[0m\n\u001b[1;33m    plt.figure(figsize=(10,5))\u001b[0m\n\u001b[1;37m      ^\u001b[0m\n\u001b[1;31mSyntaxError\u001b[0m\u001b[1;31m:\u001b[0m invalid syntax\n"
     ]
    }
   ],
   "source": [
    "req=comp_data[[\"Confirmed\",\"Deaths\",\"Recovered\"]\n",
    "plt.figure(figsize=(10,5))\n",
    "mask = np.triu(np.ones_like(req.corr(), dtype=np.bool))\n",
    "sns.heatmap(req.corr(),annot=True, mask=mask)"
   ]
  },
  {
   "cell_type": "code",
   "execution_count": 30,
   "metadata": {},
   "outputs": [
    {
     "data": {
      "text/html": [
       "<div>\n",
       "<style scoped>\n",
       "    .dataframe tbody tr th:only-of-type {\n",
       "        vertical-align: middle;\n",
       "    }\n",
       "\n",
       "    .dataframe tbody tr th {\n",
       "        vertical-align: top;\n",
       "    }\n",
       "\n",
       "    .dataframe thead th {\n",
       "        text-align: right;\n",
       "    }\n",
       "</style>\n",
       "<table border=\"1\" class=\"dataframe\">\n",
       "  <thead>\n",
       "    <tr style=\"text-align: right;\">\n",
       "      <th></th>\n",
       "      <th>Confirmed</th>\n",
       "      <th>Deaths</th>\n",
       "      <th>Recovered</th>\n",
       "    </tr>\n",
       "  </thead>\n",
       "  <tbody>\n",
       "    <tr>\n",
       "      <td>Confirmed</td>\n",
       "      <td>1.000000</td>\n",
       "      <td>0.898481</td>\n",
       "      <td>0.664646</td>\n",
       "    </tr>\n",
       "    <tr>\n",
       "      <td>Deaths</td>\n",
       "      <td>0.898481</td>\n",
       "      <td>1.000000</td>\n",
       "      <td>0.567548</td>\n",
       "    </tr>\n",
       "    <tr>\n",
       "      <td>Recovered</td>\n",
       "      <td>0.664646</td>\n",
       "      <td>0.567548</td>\n",
       "      <td>1.000000</td>\n",
       "    </tr>\n",
       "  </tbody>\n",
       "</table>\n",
       "</div>"
      ],
      "text/plain": [
       "           Confirmed    Deaths  Recovered\n",
       "Confirmed   1.000000  0.898481   0.664646\n",
       "Deaths      0.898481  1.000000   0.567548\n",
       "Recovered   0.664646  0.567548   1.000000"
      ]
     },
     "execution_count": 30,
     "metadata": {},
     "output_type": "execute_result"
    },
    {
     "data": {
      "image/png": "[encoded data removed]",
      "text/plain": [
       "<Figure size 720x720 with 2 Axes>"
      ]
     },
     "metadata": {
      "needs_background": "light"
     },
     "output_type": "display_data"
    }
   ],
   "source": [
    "# Finding the relations between the variables.\n",
    "from matplotlib import pyplot as plt\n",
    "import seaborn as sns\n",
    "plt.figure(figsize=(10,10))\n",
    "c= df_covid.corr()\n",
    "sns.heatmap(c,cmap=\"BrBG\",annot=True)\n",
    "c"
   ]
  },
  {
   "cell_type": "code",
   "execution_count": 31,
   "metadata": {},
   "outputs": [],
   "source": [
    "# import hierarchical clustering libraries\n",
    "import scipy.cluster.hierarchy as sch\n",
    "from sklearn.cluster import AgglomerativeClustering"
   ]
  },
  {
   "cell_type": "code",
   "execution_count": 33,
   "metadata": {},
   "outputs": [
    {
     "ename": "TypeError",
     "evalue": "float() argument must be a string or a number, not 'Timestamp'",
     "output_type": "error",
     "traceback": [
      "\u001b[1;31m---------------------------------------------------------------------------\u001b[0m",
      "\u001b[1;31mTypeError\u001b[0m                                 Traceback (most recent call last)",
      "\u001b[1;32m<ipython-input-33-ebf45f243bf5>\u001b[0m in \u001b[0;36m<module>\u001b[1;34m\u001b[0m\n\u001b[0;32m      1\u001b[0m \u001b[1;31m# create dendrogram\u001b[0m\u001b[1;33m\u001b[0m\u001b[1;33m\u001b[0m\u001b[1;33m\u001b[0m\u001b[0m\n\u001b[1;32m----> 2\u001b[1;33m \u001b[0mdendrogram\u001b[0m \u001b[1;33m=\u001b[0m \u001b[0msch\u001b[0m\u001b[1;33m.\u001b[0m\u001b[0mdendrogram\u001b[0m\u001b[1;33m(\u001b[0m\u001b[0msch\u001b[0m\u001b[1;33m.\u001b[0m\u001b[0mlinkage\u001b[0m\u001b[1;33m(\u001b[0m\u001b[0mdf_covid\u001b[0m\u001b[1;33m,\u001b[0m \u001b[0mmethod\u001b[0m\u001b[1;33m=\u001b[0m\u001b[1;34m'ward'\u001b[0m\u001b[1;33m)\u001b[0m\u001b[1;33m)\u001b[0m\u001b[1;33m\u001b[0m\u001b[1;33m\u001b[0m\u001b[0m\n\u001b[0m\u001b[0;32m      3\u001b[0m \u001b[1;31m# create clusters\u001b[0m\u001b[1;33m\u001b[0m\u001b[1;33m\u001b[0m\u001b[1;33m\u001b[0m\u001b[0m\n\u001b[0;32m      4\u001b[0m \u001b[0mhc\u001b[0m \u001b[1;33m=\u001b[0m \u001b[0mAgglomerativeClustering\u001b[0m\u001b[1;33m(\u001b[0m\u001b[0mn_clusters\u001b[0m\u001b[1;33m=\u001b[0m\u001b[1;36m4\u001b[0m\u001b[1;33m,\u001b[0m \u001b[0maffinity\u001b[0m \u001b[1;33m=\u001b[0m \u001b[1;34m'euclidean'\u001b[0m\u001b[1;33m,\u001b[0m \u001b[0mlinkage\u001b[0m \u001b[1;33m=\u001b[0m \u001b[1;34m'ward'\u001b[0m\u001b[1;33m)\u001b[0m\u001b[1;33m\u001b[0m\u001b[1;33m\u001b[0m\u001b[0m\n\u001b[0;32m      5\u001b[0m \u001b[1;31m# save clusters for chart\u001b[0m\u001b[1;33m\u001b[0m\u001b[1;33m\u001b[0m\u001b[1;33m\u001b[0m\u001b[0m\n",
      "\u001b[1;32m~\\Anaconda3\\lib\\site-packages\\scipy\\cluster\\hierarchy.py\u001b[0m in \u001b[0;36mlinkage\u001b[1;34m(y, method, metric, optimal_ordering)\u001b[0m\n\u001b[0;32m   1040\u001b[0m         \u001b[1;32mraise\u001b[0m \u001b[0mValueError\u001b[0m\u001b[1;33m(\u001b[0m\u001b[1;34m\"Invalid method: {0}\"\u001b[0m\u001b[1;33m.\u001b[0m\u001b[0mformat\u001b[0m\u001b[1;33m(\u001b[0m\u001b[0mmethod\u001b[0m\u001b[1;33m)\u001b[0m\u001b[1;33m)\u001b[0m\u001b[1;33m\u001b[0m\u001b[1;33m\u001b[0m\u001b[0m\n\u001b[0;32m   1041\u001b[0m \u001b[1;33m\u001b[0m\u001b[0m\n\u001b[1;32m-> 1042\u001b[1;33m     \u001b[0my\u001b[0m \u001b[1;33m=\u001b[0m \u001b[0m_convert_to_double\u001b[0m\u001b[1;33m(\u001b[0m\u001b[0mnp\u001b[0m\u001b[1;33m.\u001b[0m\u001b[0masarray\u001b[0m\u001b[1;33m(\u001b[0m\u001b[0my\u001b[0m\u001b[1;33m,\u001b[0m \u001b[0morder\u001b[0m\u001b[1;33m=\u001b[0m\u001b[1;34m'c'\u001b[0m\u001b[1;33m)\u001b[0m\u001b[1;33m)\u001b[0m\u001b[1;33m\u001b[0m\u001b[1;33m\u001b[0m\u001b[0m\n\u001b[0m\u001b[0;32m   1043\u001b[0m \u001b[1;33m\u001b[0m\u001b[0m\n\u001b[0;32m   1044\u001b[0m     \u001b[1;32mif\u001b[0m \u001b[0my\u001b[0m\u001b[1;33m.\u001b[0m\u001b[0mndim\u001b[0m \u001b[1;33m==\u001b[0m \u001b[1;36m1\u001b[0m\u001b[1;33m:\u001b[0m\u001b[1;33m\u001b[0m\u001b[1;33m\u001b[0m\u001b[0m\n",
      "\u001b[1;32m~\\Anaconda3\\lib\\site-packages\\scipy\\cluster\\hierarchy.py\u001b[0m in \u001b[0;36m_convert_to_double\u001b[1;34m(X)\u001b[0m\n\u001b[0;32m   1562\u001b[0m \u001b[1;32mdef\u001b[0m \u001b[0m_convert_to_double\u001b[0m\u001b[1;33m(\u001b[0m\u001b[0mX\u001b[0m\u001b[1;33m)\u001b[0m\u001b[1;33m:\u001b[0m\u001b[1;33m\u001b[0m\u001b[1;33m\u001b[0m\u001b[0m\n\u001b[0;32m   1563\u001b[0m     \u001b[1;32mif\u001b[0m \u001b[0mX\u001b[0m\u001b[1;33m.\u001b[0m\u001b[0mdtype\u001b[0m \u001b[1;33m!=\u001b[0m \u001b[0mnp\u001b[0m\u001b[1;33m.\u001b[0m\u001b[0mdouble\u001b[0m\u001b[1;33m:\u001b[0m\u001b[1;33m\u001b[0m\u001b[1;33m\u001b[0m\u001b[0m\n\u001b[1;32m-> 1564\u001b[1;33m         \u001b[0mX\u001b[0m \u001b[1;33m=\u001b[0m \u001b[0mX\u001b[0m\u001b[1;33m.\u001b[0m\u001b[0mastype\u001b[0m\u001b[1;33m(\u001b[0m\u001b[0mnp\u001b[0m\u001b[1;33m.\u001b[0m\u001b[0mdouble\u001b[0m\u001b[1;33m)\u001b[0m\u001b[1;33m\u001b[0m\u001b[1;33m\u001b[0m\u001b[0m\n\u001b[0m\u001b[0;32m   1565\u001b[0m     \u001b[1;32mif\u001b[0m \u001b[1;32mnot\u001b[0m \u001b[0mX\u001b[0m\u001b[1;33m.\u001b[0m\u001b[0mflags\u001b[0m\u001b[1;33m.\u001b[0m\u001b[0mcontiguous\u001b[0m\u001b[1;33m:\u001b[0m\u001b[1;33m\u001b[0m\u001b[1;33m\u001b[0m\u001b[0m\n\u001b[0;32m   1566\u001b[0m         \u001b[0mX\u001b[0m \u001b[1;33m=\u001b[0m \u001b[0mX\u001b[0m\u001b[1;33m.\u001b[0m\u001b[0mcopy\u001b[0m\u001b[1;33m(\u001b[0m\u001b[1;33m)\u001b[0m\u001b[1;33m\u001b[0m\u001b[1;33m\u001b[0m\u001b[0m\n",
      "\u001b[1;31mTypeError\u001b[0m: float() argument must be a string or a number, not 'Timestamp'"
     ]
    }
   ],
   "source": [
    "# create dendrogram\n",
    "dendrogram = sch.dendrogram(sch.linkage(df_covid, method='ward'))\n",
    "# create clusters\n",
    "hc = AgglomerativeClustering(n_clusters=4, affinity = 'euclidean', linkage = 'ward')\n",
    "# save clusters for chart\n",
    "y_hc = hc.fit_predict(df)"
   ]
  },
  {
   "cell_type": "code",
   "execution_count": null,
   "metadata": {},
   "outputs": [],
   "source": []
  }
 ],
 "metadata": {
  "kernelspec": {
   "display_name": "Python 3",
   "language": "python",
   "name": "python3"
  },
  "language_info": {
   "codemirror_mode": {
    "name": "ipython",
    "version": 3
   },
   "file_extension": ".py",
   "mimetype": "text/x-python",
   "name": "python",
   "nbconvert_exporter": "python",
   "pygments_lexer": "ipython3",
   "version": "3.7.4"
  }
 },
 "nbformat": 4,
 "nbformat_minor": 2
}
